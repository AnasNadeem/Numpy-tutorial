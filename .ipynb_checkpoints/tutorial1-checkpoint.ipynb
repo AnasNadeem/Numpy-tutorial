{
 "cells": [
  {
   "cell_type": "code",
   "execution_count": 1,
   "id": "2baa80f0",
   "metadata": {},
   "outputs": [],
   "source": [
    "import numpy as np"
   ]
  },
  {
   "cell_type": "code",
   "execution_count": 2,
   "id": "cf6797e1",
   "metadata": {},
   "outputs": [
    {
     "data": {
      "text/plain": [
       "array([[ 0,  1,  2,  3,  4],\n",
       "       [ 5,  6,  7,  8,  9],\n",
       "       [10, 11, 12, 13, 14]])"
      ]
     },
     "execution_count": 2,
     "metadata": {},
     "output_type": "execute_result"
    }
   ],
   "source": [
    "# Creating an array \n",
    "a = np.arange(15).reshape(3, 5)\n",
    "a"
   ]
  },
  {
   "cell_type": "code",
   "execution_count": 4,
   "id": "a3cd5fdc",
   "metadata": {},
   "outputs": [
    {
     "data": {
      "text/plain": [
       "(3, 5)"
      ]
     },
     "execution_count": 4,
     "metadata": {},
     "output_type": "execute_result"
    }
   ],
   "source": [
    "a.shape\n",
    "# Will return the n rows and m columns (n,m)"
   ]
  },
  {
   "cell_type": "code",
   "execution_count": 5,
   "id": "426a3309",
   "metadata": {},
   "outputs": [
    {
     "data": {
      "text/plain": [
       "'int32'"
      ]
     },
     "execution_count": 5,
     "metadata": {},
     "output_type": "execute_result"
    }
   ],
   "source": [
    "a.dtype.name\n",
    "# Will return the dtype. Ex: int32, int16, float64 "
   ]
  },
  {
   "cell_type": "code",
   "execution_count": 6,
   "id": "298fdbdd",
   "metadata": {},
   "outputs": [
    {
     "data": {
      "text/plain": [
       "15"
      ]
     },
     "execution_count": 6,
     "metadata": {},
     "output_type": "execute_result"
    }
   ],
   "source": [
    "a.size\n",
    "# Will return total elements in the array. Basically n*m"
   ]
  },
  {
   "cell_type": "code",
   "execution_count": 8,
   "id": "850254f1",
   "metadata": {},
   "outputs": [
    {
     "data": {
      "text/plain": [
       "array([3, 7, 9, 2])"
      ]
     },
     "execution_count": 8,
     "metadata": {},
     "output_type": "execute_result"
    }
   ],
   "source": [
    "# Array Creation\n",
    "# There are several ways to create arrays.\n",
    "# 1. By Python Lists\n",
    "b = np.array([3,7,9,2])\n",
    "b"
   ]
  },
  {
   "cell_type": "code",
   "execution_count": 9,
   "id": "d1e8efec",
   "metadata": {},
   "outputs": [
    {
     "data": {
      "text/plain": [
       "array([2, 6, 8, 3])"
      ]
     },
     "execution_count": 9,
     "metadata": {},
     "output_type": "execute_result"
    }
   ],
   "source": [
    "# 2. By Tuple\n",
    "c = np.array((2,6,8,3))\n",
    "c"
   ]
  },
  {
   "cell_type": "code",
   "execution_count": 13,
   "id": "c8b8ecd8",
   "metadata": {},
   "outputs": [
    {
     "data": {
      "text/plain": [
       "array([[1, 2, 6],\n",
       "       [7, 9, 3]])"
      ]
     },
     "execution_count": 13,
     "metadata": {},
     "output_type": "execute_result"
    }
   ],
   "source": [
    "# If passed many sequences it will convert into two-dimensional and three-dimensional\n",
    "two_d_arr = np.array([(1,2,6), (7,9,3)])\n",
    "two_d_arr"
   ]
  },
  {
   "cell_type": "code",
   "execution_count": 14,
   "id": "8aaaba26",
   "metadata": {},
   "outputs": [
    {
     "data": {
      "text/plain": [
       "array([[2, 3, 7],\n",
       "       [4, 2, 8],\n",
       "       [9, 3, 2]])"
      ]
     },
     "execution_count": 14,
     "metadata": {},
     "output_type": "execute_result"
    }
   ],
   "source": [
    "three_d_arr = np.array([(2,3,7), (4,2,8), (9,3,2)])\n",
    "three_d_arr"
   ]
  },
  {
   "cell_type": "code",
   "execution_count": 15,
   "id": "ff196437",
   "metadata": {},
   "outputs": [
    {
     "data": {
      "text/plain": [
       "array([[0., 0., 0., 0.],\n",
       "       [0., 0., 0., 0.],\n",
       "       [0., 0., 0., 0.]])"
      ]
     },
     "execution_count": 15,
     "metadata": {},
     "output_type": "execute_result"
    }
   ],
   "source": [
    "# 3. From function zeroes. It will create an array full of zeroes\n",
    "zer_arr = np.zeros((3,4))\n",
    "zer_arr"
   ]
  },
  {
   "cell_type": "code",
   "execution_count": 18,
   "id": "051fb7a5",
   "metadata": {},
   "outputs": [
    {
     "data": {
      "text/plain": [
       "array([[1., 1., 1., 1.],\n",
       "       [1., 1., 1., 1.],\n",
       "       [1., 1., 1., 1.]])"
      ]
     },
     "execution_count": 18,
     "metadata": {},
     "output_type": "execute_result"
    }
   ],
   "source": [
    "# 4. From function ones. It will create an array full of ones.\n",
    "one_arr = np.ones((3,4))\n",
    "one_arr"
   ]
  },
  {
   "cell_type": "code",
   "execution_count": 21,
   "id": "08b71bbb",
   "metadata": {},
   "outputs": [
    {
     "data": {
      "text/plain": [
       "array([1, 2, 3, 4, 5, 6, 7, 8, 9])"
      ]
     },
     "execution_count": 21,
     "metadata": {},
     "output_type": "execute_result"
    }
   ],
   "source": [
    "# 5. From arange function.\n",
    "# It use to create sequences of numbers. Works same as Python built-in range function.\n",
    "arange_arr = np.arange(1,10)\n",
    "arange_arr"
   ]
  },
  {
   "cell_type": "code",
   "execution_count": 22,
   "id": "ddd9733a",
   "metadata": {},
   "outputs": [
    {
     "data": {
      "text/plain": [
       "array([2.4, 2.6, 2.8, 3. , 3.2, 3.4, 3.6, 3.8, 4. , 4.2, 4.4, 4.6, 4.8,\n",
       "       5. , 5.2, 5.4, 5.6, 5.8, 6. , 6.2, 6.4, 6.6, 6.8, 7. , 7.2, 7.4,\n",
       "       7.6, 7.8, 8. ])"
      ]
     },
     "execution_count": 22,
     "metadata": {},
     "output_type": "execute_result"
    }
   ],
   "source": [
    "another_arange_arr = np.arange(2.4, 8.2, 0.2)\n",
    "another_arange_arr"
   ]
  },
  {
   "cell_type": "code",
   "execution_count": 23,
   "id": "61c1ca21",
   "metadata": {},
   "outputs": [
    {
     "data": {
      "text/plain": [
       "array([0.  , 0.25, 0.5 , 0.75, 1.  , 1.25, 1.5 , 1.75, 2.  ])"
      ]
     },
     "execution_count": 23,
     "metadata": {},
     "output_type": "execute_result"
    }
   ],
   "source": [
    "# When arange is used with floating point arguments,\n",
    "# it is generally not possible to predict the number of elemnts obtained, due to the finite floating point precision.\n",
    "# For this reason, it is usually better to use the function linspace that receives as an argument the number of elements that we want,\n",
    "# instead of the step.\n",
    "ln_space_arr = np.linspace(0,2,9)\n",
    "ln_space_arr"
   ]
  },
  {
   "cell_type": "code",
   "execution_count": null,
   "id": "479e08ca",
   "metadata": {},
   "outputs": [],
   "source": []
  }
 ],
 "metadata": {
  "kernelspec": {
   "display_name": "Python 3 (ipykernel)",
   "language": "python",
   "name": "python3"
  },
  "language_info": {
   "codemirror_mode": {
    "name": "ipython",
    "version": 3
   },
   "file_extension": ".py",
   "mimetype": "text/x-python",
   "name": "python",
   "nbconvert_exporter": "python",
   "pygments_lexer": "ipython3",
   "version": "3.9.6"
  }
 },
 "nbformat": 4,
 "nbformat_minor": 5
}
